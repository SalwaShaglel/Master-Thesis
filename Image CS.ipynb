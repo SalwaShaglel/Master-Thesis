{
 "cells": [
  {
   "cell_type": "markdown",
   "id": "4f593561-6783-42df-a68f-9b6e72988f53",
   "metadata": {},
   "source": [
    "# Image Compressed Sensing"
   ]
  },
  {
   "cell_type": "code",
   "execution_count": 1,
   "id": "a3b9c349-acd5-4fff-b290-aebdba42106c",
   "metadata": {},
   "outputs": [],
   "source": [
    "import numpy as np\n",
    "from keras.preprocessing.image import load_img, img_to_array, array_to_img, save_img\n",
    "import scipy.fftpack as spfft\n",
    "import cvxpy as cvx"
   ]
  },
  {
   "cell_type": "code",
   "execution_count": 2,
   "id": "ff2e892c-37b9-428c-ac47-04c151f81312",
   "metadata": {},
   "outputs": [],
   "source": [
    "#define discrete cosine transform and inverse discrete cosine transform\n",
    "def idct2(x):\n",
    "    return spfft.idct(spfft.idct(x.T, norm='ortho', axis=0).T, norm='ortho', axis=0)\n",
    "\n",
    "def dct2(x):\n",
    "    return spfft.dct(spfft.dct(x.T, norm='ortho', axis=0).T, norm='ortho', axis=0)"
   ]
  },
  {
   "cell_type": "code",
   "execution_count": 3,
   "id": "429db187-9d51-471f-97e8-2d9a25d0175f",
   "metadata": {},
   "outputs": [
    {
     "data": {
      "image/png": "[encoded data removed]",
      "text/plain": [
       "<PIL.Image.Image image mode=L size=120x120 at 0x162E98636D0>"
      ]
     },
     "execution_count": 3,
     "metadata": {},
     "output_type": "execute_result"
    }
   ],
   "source": [
    "#load image with specified color and size\n",
    "img = load_img('Noether.jpg', color_mode = \"grayscale\", target_size=(120,120))\n",
    "img"
   ]
  },
  {
   "cell_type": "code",
   "execution_count": 4,
   "id": "32fc5961-ae3d-48a8-933a-fec32fa01d45",
   "metadata": {},
   "outputs": [],
   "source": [
    "#convert to raw data\n",
    "img_array = img_to_array(img)\n",
    "#save_img('emmy1.jpg',img_array)\n",
    "\n",
    "#size of image\n",
    "ny,nx,_ =  img_array.shape"
   ]
  },
  {
   "cell_type": "code",
   "execution_count": 5,
   "id": "ff5579d0-fe95-43f7-8a93-90742b7ee12f",
   "metadata": {},
   "outputs": [],
   "source": [
    "# calculate how much of 0.5 of the raw data to be kept\n",
    "k = round(nx*ny * 0.5)\n",
    "\n",
    "#choose k random samples of indices\n",
    "ri = np.random.choice(nx*ny, k, replace=False) \n",
    "\n",
    "# keep random 50% of the image and remove the rest\n",
    "img_50 = img_array.T.flat[ri]\n",
    "\n",
    "img_50 = np.expand_dims(img_50, axis=1)"
   ]
  },
  {
   "cell_type": "code",
   "execution_count": 6,
   "id": "e8b38b14-5263-4eb5-8c33-4f7d7ca70c58",
   "metadata": {},
   "outputs": [],
   "source": [
    "#Define a matrix with the same size as the original image \n",
    "#all entries 255 corresponding to white color\n",
    "vis_50= 255 * np.ones(img_array.shape)\n",
    "\n",
    "#replace the previously chosen random indices to same values as the original image\n",
    "vis_50.T.flat[ri] = img_array.T.flat[ri]\n",
    "#save_img('emmy4.jpg',vis_50)"
   ]
  },
  {
   "cell_type": "code",
   "execution_count": 7,
   "id": "055178c4-a1e3-4bdd-9889-1e7ad9b935f8",
   "metadata": {},
   "outputs": [
    {
     "data": {
      "image/png": "[encoded data removed]",
      "text/plain": [
       "<PIL.Image.Image image mode=L size=120x120 at 0x162E98633D0>"
      ]
     },
     "execution_count": 7,
     "metadata": {},
     "output_type": "execute_result"
    }
   ],
   "source": [
    "array_to_img(dct2(idct2(vis_50)))"
   ]
  },
  {
   "cell_type": "code",
   "execution_count": 8,
   "id": "d8062228-1697-4ff7-b581-4fbf6505a077",
   "metadata": {},
   "outputs": [],
   "source": [
    "#Define the matrix of measurement operators\n",
    "A = np.kron(\n",
    "    spfft.idct(np.identity(nx), norm='ortho', axis=0),\n",
    "    spfft.idct(np.identity(ny), norm='ortho', axis=0)\n",
    "    )"
   ]
  },
  {
   "cell_type": "code",
   "execution_count": 10,
   "id": "838e8ce6-88f0-40e0-ba65-5ae83fe7681e",
   "metadata": {},
   "outputs": [],
   "source": [
    "A = A[ri,:]"
   ]
  },
  {
   "cell_type": "code",
   "execution_count": 12,
   "id": "4104a247-736a-495e-983b-36e45e26ecc0",
   "metadata": {},
   "outputs": [
    {
     "name": "stdout",
     "output_type": "stream",
     "text": [
      "===============================================================================\n",
      "                                     CVXPY                                     \n",
      "                                    v1.1.17                                    \n",
      "===============================================================================\n",
      "(CVXPY) Jun 19 07:55:17 PM: Your problem has 14400 variables, 1 constraints, and 0 parameters.\n",
      "(CVXPY) Jun 19 07:55:17 PM: It is compliant with the following grammars: DCP, DQCP\n",
      "(CVXPY) Jun 19 07:55:17 PM: (If you need to solve this problem multiple times, but with different data, consider using parameters.)\n",
      "(CVXPY) Jun 19 07:55:17 PM: CVXPY will first compile your problem; then, it will invoke a numerical solver to obtain a solution.\n",
      "-------------------------------------------------------------------------------\n",
      "                                  Compilation                                  \n",
      "-------------------------------------------------------------------------------\n",
      "(CVXPY) Jun 19 07:55:17 PM: Compiling problem (target solver=MOSEK).\n",
      "(CVXPY) Jun 19 07:55:17 PM: Reduction chain: Dcp2Cone -> CvxAttr2Constr -> ConeMatrixStuffing -> MOSEK\n",
      "(CVXPY) Jun 19 07:55:17 PM: Applying reduction Dcp2Cone\n",
      "(CVXPY) Jun 19 07:55:17 PM: Applying reduction CvxAttr2Constr\n",
      "(CVXPY) Jun 19 07:55:17 PM: Applying reduction ConeMatrixStuffing\n",
      "(CVXPY) Jun 19 07:55:36 PM: Applying reduction MOSEK\n",
      "(CVXPY) Jun 19 07:56:01 PM: Finished problem compilation (took 4.379e+01 seconds).\n",
      "-------------------------------------------------------------------------------\n",
      "                                Numerical solver                               \n",
      "-------------------------------------------------------------------------------\n",
      "(CVXPY) Jun 19 07:56:01 PM: Invoking solver MOSEK  to obtain a solution.\n",
      "\n",
      "\n",
      "Problem\n",
      "  Name                   :                 \n",
      "  Objective sense        : max             \n",
      "  Type                   : LO (linear optimization problem)\n",
      "  Constraints            : 28800           \n",
      "  Cones                  : 0               \n",
      "  Scalar variables       : 36000           \n",
      "  Matrix variables       : 0               \n",
      "  Integer variables      : 0               \n",
      "\n",
      "Optimizer started.\n",
      "Problem\n",
      "  Name                   :                 \n",
      "  Objective sense        : max             \n",
      "  Type                   : LO (linear optimization problem)\n",
      "  Constraints            : 28800           \n",
      "  Cones                  : 0               \n",
      "  Scalar variables       : 36000           \n",
      "  Matrix variables       : 0               \n",
      "  Integer variables      : 0               \n",
      "\n",
      "Optimizer  - threads                : 8               \n",
      "Optimizer  - solved problem         : the dual        \n",
      "Optimizer  - Constraints            : 7200\n",
      "Optimizer  - Cones                  : 0\n",
      "Optimizer  - Scalar variables       : 28800             conic                  : 0               \n",
      "Optimizer  - Semi-definite variables: 0                 scalarized             : 0               \n",
      "Factor     - setup time             : 6.84              dense det. time        : 0.00            \n",
      "Factor     - ML order time          : 0.70              GP order time          : 0.00            \n",
      "Factor     - nonzeros before factor : 2.59e+07          after factor           : 2.59e+07        \n",
      "Factor     - dense dim.             : 0                 flops                  : 8.49e+11        \n",
      "ITE PFEAS    DFEAS    GFEAS    PRSTATUS   POBJ              DOBJ              MU       TIME  \n",
      "0   8.0e+01  2.9e+06  5.6e+06  0.00e+00   0.000000000e+00   2.898660182e+04   3.7e+04  30.36 \n",
      "1   3.1e+01  1.1e+06  2.1e+06  -9.99e-01  4.629537066e+04   7.519944803e+04   1.4e+04  35.06 \n",
      "2   1.1e+01  4.2e+05  8.0e+05  -9.58e-01  1.441421194e+05   1.688331987e+05   5.3e+03  40.72 \n",
      "3   4.7e+00  1.8e+05  3.3e+05  -2.11e-01  1.907860670e+05   2.036028108e+05   2.2e+03  45.30 \n",
      "4   1.2e+00  4.6e+04  8.7e+04  4.63e-01   2.354805673e+05   2.394959108e+05   5.8e+02  49.61 \n",
      "5   1.5e-01  5.7e+03  1.1e+04  8.53e-01   2.529435965e+05   2.534763409e+05   7.2e+01  54.56 \n",
      "6   9.1e-03  3.4e+02  6.1e+02  9.82e-01   2.554533412e+05   2.554833344e+05   4.2e+00  60.47 \n",
      "7   5.5e-03  2.1e+02  3.7e+02  9.99e-01   2.555190888e+05   2.555372403e+05   2.6e+00  64.63 \n",
      "8   7.5e-04  2.8e+01  5.0e+01  9.99e-01   2.556052297e+05   2.556077061e+05   3.5e-01  69.59 \n",
      "9   2.3e-04  8.8e+00  1.6e+01  1.00e+00   2.556126103e+05   2.556133810e+05   1.1e-01  74.33 \n",
      "10  9.4e-05  3.5e+00  6.3e+00  1.00e+00   2.556146050e+05   2.556149160e+05   4.4e-02  78.56 \n",
      "11  1.0e-05  3.8e-01  6.7e-01  1.00e+00   2.556157600e+05   2.556157933e+05   4.7e-03  83.30 \n",
      "12  3.0e-06  1.1e-01  2.0e-01  1.00e+00   2.556158485e+05   2.556158586e+05   1.4e-03  87.81 \n",
      "13  2.4e-07  1.8e-02  2.1e-02  1.00e+00   2.556158829e+05   2.556158840e+05   1.1e-04  92.80 \n",
      "14  2.4e-07  1.8e-02  2.1e-02  1.00e+00   2.556158829e+05   2.556158840e+05   1.1e-04  96.88 \n",
      "15  1.2e-07  9.4e-03  1.1e-02  1.00e+00   2.556158842e+05   2.556158847e+05   5.6e-05  103.03\n",
      "16  1.2e-08  9.0e-04  1.0e-03  1.00e+00   2.556158853e+05   2.556158854e+05   5.3e-06  111.67\n",
      "Optimizer terminated. Time: 113.80  \n",
      "\n",
      "\n",
      "Interior-point solution summary\n",
      "  Problem status  : PRIMAL_AND_DUAL_FEASIBLE\n",
      "  Solution status : OPTIMAL\n",
      "  Primal.  obj: 2.5561588533e+05    nrm: 6e+00    Viol.  con: 4e-10    var: 0e+00  \n",
      "  Dual.    obj: 2.5561588538e+05    nrm: 4e+04    Viol.  con: 0e+00    var: 5e-07  \n",
      "-------------------------------------------------------------------------------\n",
      "                                    Summary                                    \n",
      "-------------------------------------------------------------------------------\n",
      "(CVXPY) Jun 19 07:58:24 PM: Problem status: optimal\n",
      "(CVXPY) Jun 19 07:58:24 PM: Optimal value: 2.556e+05\n",
      "(CVXPY) Jun 19 07:58:24 PM: Compilation took 4.379e+01 seconds\n",
      "(CVXPY) Jun 19 07:58:24 PM: Solver (including time spent in interface) took 1.428e+02 seconds\n"
     ]
    }
   ],
   "source": [
    "#L1 optimization\n",
    "vx = cvx.Variable(nx * ny)\n",
    "objective = cvx.Minimize(cvx.norm(vx, 1))\n",
    "constraints = [A@vx == img_50.reshape(7200,)]\n",
    "prob = cvx.Problem(objective, constraints)\n",
    "result = prob.solve(verbose=True)"
   ]
  },
  {
   "cell_type": "code",
   "execution_count": 13,
   "id": "65529a32-004e-4e5e-9439-67a881237cab",
   "metadata": {},
   "outputs": [
    {
     "data": {
      "image/png": "[encoded data removed]",
      "text/plain": [
       "<PIL.Image.Image image mode=L size=120x120 at 0x1628476A5B0>"
      ]
     },
     "execution_count": 13,
     "metadata": {},
     "output_type": "execute_result"
    }
   ],
   "source": [
    "#reconstructed images\n",
    "img_rec = np.array(vx.value).squeeze()\n",
    "\n",
    "#stack columns\n",
    "img_rec = img_rec.reshape(nx, ny).T \n",
    "img_rec = idct2(img_rec)\n",
    "array_to_img(img_rec.reshape(120,120,1))"
   ]
  }
 ],
 "metadata": {
  "kernelspec": {
   "display_name": "Python 3 (ipykernel)",
   "language": "python",
   "name": "python3"
  },
  "language_info": {
   "codemirror_mode": {
    "name": "ipython",
    "version": 3
   },
   "file_extension": ".py",
   "mimetype": "text/x-python",
   "name": "python",
   "nbconvert_exporter": "python",
   "pygments_lexer": "ipython3",
   "version": "3.9.4"
  }
 },
 "nbformat": 4,
 "nbformat_minor": 5
}
