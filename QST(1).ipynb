{
 "cells": [
  {
   "cell_type": "code",
   "execution_count": 2,
   "id": "d455f86a-09d2-42c7-a298-35fbbb81a9fc",
   "metadata": {},
   "outputs": [],
   "source": [
    "import numpy as np\n",
    "import qutip as qt"
   ]
  },
  {
   "cell_type": "markdown",
   "id": "db8b06bc-8416-416e-bd74-9a13dddd0316",
   "metadata": {
    "tags": []
   },
   "source": [
    "# Single-Qubit QST"
   ]
  },
  {
   "cell_type": "markdown",
   "id": "70ecd555-f075-41d0-8363-8f2e55f81dbe",
   "metadata": {},
   "source": [
    "the density matrix can be estimated by \\cite{nielsen_chuang_2019}\n",
    "\\begin{equation}\n",
    "    \\rho_{est}=\\frac{1}{2}[\\operatorname{tr}(\\rho) I+\\operatorname{tr}(X \\rho) X+\\operatorname{tr}(Y \\rho) Y+\\operatorname{tr}(Z \\rho) Z]\n",
    "    \\label{rho_est}\n",
    "\\end{equation}"
   ]
  },
  {
   "cell_type": "code",
   "execution_count": 20,
   "id": "c95c50f0-be2a-41e6-ae27-d561ecd75c7f",
   "metadata": {},
   "outputs": [],
   "source": [
    "#Define Pauli matricies\n",
    "I=qt.qeye(2)\n",
    "X=qt.sigmax()\n",
    "Y=qt.sigmay()\n",
    "Z=qt.sigmaz()"
   ]
  },
  {
   "cell_type": "code",
   "execution_count": 12,
   "id": "2401efd5-9842-4afb-91ce-16ae7f3f4d2f",
   "metadata": {},
   "outputs": [
    {
     "data": {
      "text/latex": [
       "Quantum object: dims = [[2], [2]], shape = (2, 2), type = oper, isherm = True\\begin{equation*}\\left(\\begin{array}{*{11}c}0.045 & (0.182+0.086j)\\\\(0.182-0.086j) & 0.955\\\\\\end{array}\\right)\\end{equation*}"
      ],
      "text/plain": [
       "Quantum object: dims = [[2], [2]], shape = (2, 2), type = oper, isherm = True\n",
       "Qobj data =\n",
       "[[0.045+0.j    0.182+0.086j]\n",
       " [0.182-0.086j 0.955+0.j   ]]"
      ]
     },
     "execution_count": 12,
     "metadata": {},
     "output_type": "execute_result"
    }
   ],
   "source": [
    "#Define an arbitrary density matrix\n",
    "rho=qt.Qobj([[0.045,0.182+0.086j],[0.182-0.086j,0.955]])\n",
    "rho"
   ]
  },
  {
   "cell_type": "code",
   "execution_count": 40,
   "id": "a3affb27-8227-49c2-9484-ead93f0893d0",
   "metadata": {},
   "outputs": [
    {
     "data": {
      "text/plain": [
       "-0.9099999999999999"
      ]
     },
     "execution_count": 40,
     "metadata": {},
     "output_type": "execute_result"
    }
   ],
   "source": [
    "rz=(rho*Z).tr()\n",
    "rz"
   ]
  },
  {
   "cell_type": "code",
   "execution_count": 41,
   "id": "085b5380-7b25-40de-a180-fcef94b26d69",
   "metadata": {},
   "outputs": [
    {
     "data": {
      "text/plain": [
       "-0.172"
      ]
     },
     "execution_count": 41,
     "metadata": {},
     "output_type": "execute_result"
    }
   ],
   "source": [
    "ry=(rho*Y).tr()\n",
    "ry"
   ]
  },
  {
   "cell_type": "code",
   "execution_count": 42,
   "id": "dfc04629-a3d5-48ab-9a35-22af6d143511",
   "metadata": {},
   "outputs": [
    {
     "data": {
      "text/plain": [
       "0.364"
      ]
     },
     "execution_count": 42,
     "metadata": {},
     "output_type": "execute_result"
    }
   ],
   "source": [
    "rx=(rho*X).tr()\n",
    "rx"
   ]
  },
  {
   "cell_type": "code",
   "execution_count": 60,
   "id": "91fc94e0-36b8-4448-bf01-b70599fd5b2f",
   "metadata": {},
   "outputs": [
    {
     "data": {
      "text/latex": [
       "Quantum object: dims = [[2], [2]], shape = (2, 2), type = oper, isherm = True\\begin{equation*}\\left(\\begin{array}{*{11}c}0.045 & (0.182+0.086j)\\\\(0.182-0.086j) & 0.955\\\\\\end{array}\\right)\\end{equation*}"
      ],
      "text/plain": [
       "Quantum object: dims = [[2], [2]], shape = (2, 2), type = oper, isherm = True\n",
       "Qobj data =\n",
       "[[0.045+0.j    0.182+0.086j]\n",
       " [0.182-0.086j 0.955+0.j   ]]"
      ]
     },
     "execution_count": 60,
     "metadata": {},
     "output_type": "execute_result"
    }
   ],
   "source": [
    "rho_est=(1/2)*(I+rz*Z+ry*Y+rx*X)\n",
    "rho_est"
   ]
  },
  {
   "cell_type": "markdown",
   "id": "1bdfbc04-50df-4555-a1b2-e7ba31107b6e",
   "metadata": {},
   "source": [
    "# Two-Qubit QST"
   ]
  },
  {
   "cell_type": "code",
   "execution_count": null,
   "id": "1d02ae71-75e8-4f81-867a-4f37d34ba5b3",
   "metadata": {},
   "outputs": [],
   "source": []
  },
  {
   "cell_type": "code",
   "execution_count": 46,
   "id": "cd5a25ea-0c9e-4867-9ba7-68b27d94aea1",
   "metadata": {},
   "outputs": [
    {
     "data": {
      "text/latex": [
       "Quantum object: dims = [[2, 2], [2, 2]], shape = (4, 4), type = oper, isherm = True\\begin{equation*}\\left(\\begin{array}{*{11}c}0.500 & 0.0 & 0.0 & 0.500\\\\0.0 & 0.0 & 0.0 & 0.0\\\\0.0 & 0.0 & 0.0 & 0.0\\\\0.500 & 0.0 & 0.0 & 0.500\\\\\\end{array}\\right)\\end{equation*}"
      ],
      "text/plain": [
       "Quantum object: dims = [[2, 2], [2, 2]], shape = (4, 4), type = oper, isherm = True\n",
       "Qobj data =\n",
       "[[0.5 0.  0.  0.5]\n",
       " [0.  0.  0.  0. ]\n",
       " [0.  0.  0.  0. ]\n",
       " [0.5 0.  0.  0.5]]"
      ]
     },
     "execution_count": 46,
     "metadata": {},
     "output_type": "execute_result"
    }
   ],
   "source": [
    "#We do a QST on one of the bell states\n",
    "Bell=qt.bell_state('00')*qt.bell_state('00').dag()\n",
    "Bell"
   ]
  },
  {
   "cell_type": "code",
   "execution_count": 61,
   "id": "18cbb8db-d83e-4b24-90cf-c049ef6ad9e4",
   "metadata": {},
   "outputs": [
    {
     "data": {
      "text/latex": [
       "Quantum object: dims = [[2, 2], [2, 2]], shape = (4, 4), type = oper, isherm = True\\begin{equation*}\\left(\\begin{array}{*{11}c}0.500 & 0.0 & 0.0 & 0.500\\\\0.0 & 0.0 & 0.0 & 0.0\\\\0.0 & 0.0 & 0.0 & 0.0\\\\0.500 & 0.0 & 0.0 & 0.500\\\\\\end{array}\\right)\\end{equation*}"
      ],
      "text/plain": [
       "Quantum object: dims = [[2, 2], [2, 2]], shape = (4, 4), type = oper, isherm = True\n",
       "Qobj data =\n",
       "[[0.5 0.  0.  0.5]\n",
       " [0.  0.  0.  0. ]\n",
       " [0.  0.  0.  0. ]\n",
       " [0.5 0.  0.  0.5]]"
      ]
     },
     "execution_count": 61,
     "metadata": {},
     "output_type": "execute_result"
    }
   ],
   "source": [
    "#Since the number of measurements increase exponentially with the number of qubits...\n",
    "#instead of doing the pauli measurements in separace cells...\n",
    "#We make a for loop that tensor product all the different compination of the pauli matrices\n",
    "#This loop can be modified to any number of qubits but with so many nested loops it will become very ugly\n",
    "\n",
    "#a set of pauli matrices\n",
    "pauli_set=[I,X,Y,Z]\n",
    "\n",
    "#initialize the estimate density matrix to zeros\n",
    "rho_est=Bell*0\n",
    "\n",
    "#QST loop\n",
    "for i in range(4):\n",
    "    for j in range(4):\n",
    "        P=qt.tensor(pauli_set[i],pauli_set[j])\n",
    "        term=(1/2**2)*((P*Bell).tr())*P\n",
    "        rho_est=rho_est+term\n",
    "        \n",
    "rho_est"
   ]
  }
 ],
 "metadata": {
  "kernelspec": {
   "display_name": "Python 3 (ipykernel)",
   "language": "python",
   "name": "python3"
  },
  "language_info": {
   "codemirror_mode": {
    "name": "ipython",
    "version": 3
   },
   "file_extension": ".py",
   "mimetype": "text/x-python",
   "name": "python",
   "nbconvert_exporter": "python",
   "pygments_lexer": "ipython3",
   "version": "3.9.4"
  }
 },
 "nbformat": 4,
 "nbformat_minor": 5
}
