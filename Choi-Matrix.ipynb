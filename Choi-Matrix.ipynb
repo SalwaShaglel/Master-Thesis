{
 "cells": [
  {
   "cell_type": "code",
   "execution_count": 27,
   "id": "f38fd4e3-2581-4974-ac56-7d7f7396ff97",
   "metadata": {},
   "outputs": [],
   "source": [
    "import numpy as np\n",
    "import qutip as qt"
   ]
  },
  {
   "cell_type": "markdown",
   "id": "3ff74d26-4949-4856-9234-aca068536b1a",
   "metadata": {},
   "source": [
    "## The Choi matrix representation of a single-qubit quantum channel $\\Lambda: \\mathcal{H_A} \\rightarrow \\mathcal{H_B}$ is obtained by applying the channel on a subsystem of the two-qubit maximally entangled state (i.e.~Bell states)\n",
    "\\begin{equation}\n",
    "\\begin{split}\n",
    "\\rho_{choi}&= (\\mathbb{1} \\otimes \\Lambda) (|\\phi^+\\rangle \\langle\\phi^+|) \\\\ &=\\sum_{i, j}|i\\rangle\\langle j| \\otimes \\Lambda(|i\\rangle\\langle j|).\n",
    "\\end{split}\n",
    "\\end{equation}"
   ]
  },
  {
   "cell_type": "code",
   "execution_count": 55,
   "id": "f8c8cb00-d0ac-479f-92f3-f4e2550f4b62",
   "metadata": {},
   "outputs": [],
   "source": [
    "#Define the Bell state, the bit-flip gate and the Identity matrix\n",
    "\n",
    "Bell=qt.bell_state(state='00')*qt.bell_state(state='00').dag()\n",
    "#Bell=0.5*qt.Qobj([[1,0,0,1],[0,0,0,0],[0,0,0,0],[1,0,0,1]],dims = [[2, 2], [2, 2]])\n",
    "\n",
    "X=qt.sigmax()\n",
    "I=qt.qeye(2)"
   ]
  },
  {
   "cell_type": "code",
   "execution_count": 58,
   "id": "442c4d16-1471-44d6-867d-a31bd59f5efd",
   "metadata": {},
   "outputs": [
    {
     "data": {
      "text/latex": [
       "Quantum object: dims = [[2, 2], [2, 2]], shape = (4, 4), type = oper, isherm = True\\begin{equation*}\\left(\\begin{array}{*{11}c}0.0 & 0.0 & 0.0 & 0.0\\\\0.0 & 0.500 & 0.500 & 0.0\\\\0.0 & 0.500 & 0.500 & 0.0\\\\0.0 & 0.0 & 0.0 & 0.0\\\\\\end{array}\\right)\\end{equation*}"
      ],
      "text/plain": [
       "Quantum object: dims = [[2, 2], [2, 2]], shape = (4, 4), type = oper, isherm = True\n",
       "Qobj data =\n",
       "[[0.  0.  0.  0. ]\n",
       " [0.  0.5 0.5 0. ]\n",
       " [0.  0.5 0.5 0. ]\n",
       " [0.  0.  0.  0. ]]"
      ]
     },
     "execution_count": 58,
     "metadata": {},
     "output_type": "execute_result"
    }
   ],
   "source": [
    "#Apply the bit-flip gate on a subsystem of the Bell state\n",
    "\n",
    "Choi_X=qt.tensor(I,X)*Bell*qt.tensor(I,X).dag()\n",
    "Choi_X"
   ]
  },
  {
   "cell_type": "markdown",
   "id": "25c2b9f0-f93e-4fa6-b2df-e6bce99df9f8",
   "metadata": {},
   "source": [
    "## Another approach which I consider it to be more general and practical way to obtain the Choi-matrix of an $n$-qubit channel is by considering the Kraus operators ${K_l}$ of the channel\n",
    "\\begin{equation}\n",
    "\\begin{split}\n",
    "\\rho_{choi}&=\\sum_{i, j}|i\\rangle\\langle j| \\otimes \\left( \\sum_{l}^r (K_l|i\\rangle\\langle j|K_l^\\dagger) \\right) \\\\ &= \\sum_{l}^r |K_l\\rangle\\rangle \\langle\\langle K_l|,\n",
    "\\end{split}\n",
    "\\end{equation}"
   ]
  },
  {
   "cell_type": "code",
   "execution_count": 62,
   "id": "94d753bc-64af-42e4-bdf2-ff891265ef9a",
   "metadata": {},
   "outputs": [
    {
     "data": {
      "text/latex": [
       "Quantum object: dims = [[[2], [2]], [1]], shape = (4, 1), type = operator-ket\\begin{equation*}\\left(\\begin{array}{*{11}c}0.0\\\\1.0\\\\1.0\\\\0.0\\\\\\end{array}\\right)\\end{equation*}"
      ],
      "text/plain": [
       "Quantum object: dims = [[[2], [2]], [1]], shape = (4, 1), type = operator-ket\n",
       "Qobj data =\n",
       "[[0.]\n",
       " [1.]\n",
       " [1.]\n",
       " [0.]]"
      ]
     },
     "execution_count": 62,
     "metadata": {},
     "output_type": "execute_result"
    }
   ],
   "source": [
    "#vectorizing the gate's matrix by flattening it\n",
    "vecX=qt.operator_to_vector(X)\n",
    "#vecX=X.full().flatten()\n",
    "vecX"
   ]
  },
  {
   "cell_type": "code",
   "execution_count": 65,
   "id": "bc35e9c0-d8dc-41b7-b667-5c72ccc871ac",
   "metadata": {},
   "outputs": [
    {
     "data": {
      "text/latex": [
       "Quantum object: dims = [[[2], [2]], [[2], [2]]], shape = (4, 4), type = super, isherm = True, superrep = None\\begin{equation*}\\left(\\begin{array}{*{11}c}0.0 & 0.0 & 0.0 & 0.0\\\\0.0 & 1.0 & 1.0 & 0.0\\\\0.0 & 1.0 & 1.0 & 0.0\\\\0.0 & 0.0 & 0.0 & 0.0\\\\\\end{array}\\right)\\end{equation*}"
      ],
      "text/plain": [
       "Quantum object: dims = [[[2], [2]], [[2], [2]]], shape = (4, 4), type = super, isherm = True, superrep = None\n",
       "Qobj data =\n",
       "[[0. 0. 0. 0.]\n",
       " [0. 1. 1. 0.]\n",
       " [0. 1. 1. 0.]\n",
       " [0. 0. 0. 0.]]"
      ]
     },
     "execution_count": 65,
     "metadata": {},
     "output_type": "execute_result"
    }
   ],
   "source": [
    "#Multiplying the vectorized gate with its conjugate-trasnposed self\n",
    "Choi_X=vecX*vecX.dag()\n",
    "#Choi_X=qt.Qobj(0.5*np.kron(X.full().flatten().reshape(4,1),X.full().flatten()),dims = [[2, 2], [2, 2]])\n",
    "Choi_X"
   ]
  },
  {
   "cell_type": "markdown",
   "id": "55ba20f0-c9fe-4996-864f-642f485a57b6",
   "metadata": {},
   "source": [
    "## The evolution of any quantum state $\\sigma$ with respect to the channel's Choi-matrix is then given by\n",
    "\\begin{equation}\n",
    "\\mathcal{E}(\\sigma) = d_A \\operatorname{Tr}_{A}\\left[\\rho_{choi}\\left(\\sigma^{T} \\otimes \\mathbb{1_B}\\right)\\right]\n",
    "\\end{equation}"
   ]
  },
  {
   "cell_type": "code",
   "execution_count": 73,
   "id": "4740e06e-aabe-44b4-be7b-f2eff289601c",
   "metadata": {},
   "outputs": [
    {
     "data": {
      "text/latex": [
       "Quantum object: dims = [[2], [2]], shape = (2, 2), type = oper, isherm = True\\begin{equation*}\\left(\\begin{array}{*{11}c}0.0 & 0.0\\\\0.0 & 1.0\\\\\\end{array}\\right)\\end{equation*}"
      ],
      "text/plain": [
       "Quantum object: dims = [[2], [2]], shape = (2, 2), type = oper, isherm = True\n",
       "Qobj data =\n",
       "[[0. 0.]\n",
       " [0. 1.]]"
      ]
     },
     "execution_count": 73,
     "metadata": {},
     "output_type": "execute_result"
    }
   ],
   "source": [
    "#Define any quantum state, up-state for example\n",
    "Upstate=qt.qstate('u')*qt.qstate('u').dag()\n",
    "Upstate"
   ]
  },
  {
   "cell_type": "code",
   "execution_count": 78,
   "id": "d271682e-3cff-4331-8e88-7b090c30e63f",
   "metadata": {},
   "outputs": [
    {
     "data": {
      "text/latex": [
       "Quantum object: dims = [[2], [2]], shape = (2, 2), type = oper, isherm = True\\begin{equation*}\\left(\\begin{array}{*{11}c}1.000 & 0.0\\\\0.0 & 0.0\\\\\\end{array}\\right)\\end{equation*}"
      ],
      "text/plain": [
       "Quantum object: dims = [[2], [2]], shape = (2, 2), type = oper, isherm = True\n",
       "Qobj data =\n",
       "[[1. 0.]\n",
       " [0. 0.]]"
      ]
     },
     "execution_count": 78,
     "metadata": {},
     "output_type": "execute_result"
    }
   ],
   "source": [
    "#The evolution of the up-state under the Choi-matrix of a bit-flip is expected to give the down-state\n",
    "Downstate=2*(Choi_X*(qt.tensor(Upstate.trans(),I))).ptrace(1)\n",
    "Downstate"
   ]
  },
  {
   "cell_type": "markdown",
   "id": "52c240b6-4ab2-4bf5-8489-282216e5372b",
   "metadata": {},
   "source": [
    "## Decomposing a channel into its Kraus operators can be done by obtaining the vectorized eigenvectors of the Choi-matrix, reshaping them into a square matrix, and weighting them by their corresponding eigenvalues and the square root of the subsystem's dimension $\\sqrt{d_A}$."
   ]
  },
  {
   "cell_type": "code",
   "execution_count": 80,
   "id": "0161c729-1f2c-4028-89e4-449bd2da14ea",
   "metadata": {},
   "outputs": [
    {
     "data": {
      "text/plain": [
       "array([0.00000000e+00, 0.00000000e+00, 5.55111512e-16, 1.00000000e+00])"
      ]
     },
     "execution_count": 80,
     "metadata": {},
     "output_type": "execute_result"
    }
   ],
   "source": [
    "#Eigenvalues of the Choi-Matrix\n",
    "Choi_X.eigenstates()[0]"
   ]
  },
  {
   "cell_type": "code",
   "execution_count": 82,
   "id": "1ed0542c-8f09-44fc-8dad-3c39b084bddd",
   "metadata": {},
   "outputs": [
    {
     "data": {
      "text/plain": [
       "array([Quantum object: dims = [[2, 2], [1, 1]], shape = (4, 1), type = ket\n",
       "       Qobj data =\n",
       "       [[1.]\n",
       "        [0.]\n",
       "        [0.]\n",
       "        [0.]]                                                             ,\n",
       "       Quantum object: dims = [[2, 2], [1, 1]], shape = (4, 1), type = ket\n",
       "       Qobj data =\n",
       "       [[0.]\n",
       "        [0.]\n",
       "        [0.]\n",
       "        [1.]]                                                             ,\n",
       "       Quantum object: dims = [[2, 2], [1, 1]], shape = (4, 1), type = ket\n",
       "       Qobj data =\n",
       "       [[ 0.        ]\n",
       "        [ 0.70710678]\n",
       "        [-0.70710678]\n",
       "        [ 0.        ]]                                                    ,\n",
       "       Quantum object: dims = [[2, 2], [1, 1]], shape = (4, 1), type = ket\n",
       "       Qobj data =\n",
       "       [[0.        ]\n",
       "        [0.70710678]\n",
       "        [0.70710678]\n",
       "        [0.        ]]                                                     ],\n",
       "      dtype=object)"
      ]
     },
     "execution_count": 82,
     "metadata": {},
     "output_type": "execute_result"
    }
   ],
   "source": [
    "#Eigenvectors of the Choi-Matrix\n",
    "Choi_X.eigenstates()[1]"
   ]
  },
  {
   "cell_type": "code",
   "execution_count": 101,
   "id": "76a87dec-625e-4827-b9b5-4db9e2be107d",
   "metadata": {},
   "outputs": [
    {
     "data": {
      "text/latex": [
       "Quantum object: dims = [[[2], [2]], [1]], shape = (4, 1), type = operator-ket\\begin{equation*}\\left(\\begin{array}{*{11}c}0.0\\\\1.000\\\\1.0\\\\0.0\\\\\\end{array}\\right)\\end{equation*}"
      ],
      "text/plain": [
       "Quantum object: dims = [[[2], [2]], [1]], shape = (4, 1), type = operator-ket\n",
       "Qobj data =\n",
       "[[0.]\n",
       " [1.]\n",
       " [1.]\n",
       " [0.]]"
      ]
     },
     "execution_count": 101,
     "metadata": {},
     "output_type": "execute_result"
    }
   ],
   "source": [
    "#The only eigenvector that survives is the one with the non-zero eigenvalue\n",
    "eigvecX=qt.Qobj(np.sqrt(2)*Choi_X.eigenstates()[0][3]*Choi_X.eigenstates()[1][3]\n",
    "                , dims = [[[2], [2]], [1]], shape = (4, 1), type = 'operator-ket')\n",
    "eigvecX"
   ]
  },
  {
   "cell_type": "code",
   "execution_count": 102,
   "id": "0cb4cd02-5c97-4863-824e-71c2246169cf",
   "metadata": {},
   "outputs": [
    {
     "data": {
      "text/latex": [
       "Quantum object: dims = [[2], [2]], shape = (2, 2), type = oper, isherm = True\\begin{equation*}\\left(\\begin{array}{*{11}c}0.0 & 1.0\\\\1.000 & 0.0\\\\\\end{array}\\right)\\end{equation*}"
      ],
      "text/plain": [
       "Quantum object: dims = [[2], [2]], shape = (2, 2), type = oper, isherm = True\n",
       "Qobj data =\n",
       "[[0. 1.]\n",
       " [1. 0.]]"
      ]
     },
     "execution_count": 102,
     "metadata": {},
     "output_type": "execute_result"
    }
   ],
   "source": [
    "#Reshaping the vector into a square matrix, we get our gate back as a single Kraus operator\n",
    "qt.vector_to_operator(eigvecX)"
   ]
  }
 ],
 "metadata": {
  "kernelspec": {
   "display_name": "Python 3 (ipykernel)",
   "language": "python",
   "name": "python3"
  },
  "language_info": {
   "codemirror_mode": {
    "name": "ipython",
    "version": 3
   },
   "file_extension": ".py",
   "mimetype": "text/x-python",
   "name": "python",
   "nbconvert_exporter": "python",
   "pygments_lexer": "ipython3",
   "version": "3.9.4"
  }
 },
 "nbformat": 4,
 "nbformat_minor": 5
}
